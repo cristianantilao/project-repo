# Ejemplo de Uso: Mantenimiento Predictivo de Camiones CAEX

Este notebook demuestra cómo utilizar los scripts proporcionados para preprocesar los datos, entrenar un modelo de predicción de fallos, y generar un dashboard interactivo para la visualización de alertas.

## Paso 1: Preprocesamiento de Datos

Ejecuta el script de preprocesamiento:

```python
!python scripts/preprocessing.py

Este script carga los datos crudos desde data/raw/caex_data.csv, limpia los datos y los divide en conjuntos de entrenamiento y prueba, guardando los resultados en data/processed/.

## Paso 2: Entrenamiento del Modelo

Ejecuta el script de entrenamiento:
!python scripts/train_model.py
