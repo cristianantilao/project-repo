{
 "cells": [
  {
   "cell_type": "markdown",
   "metadata": {},
   "source": [
    "# Ejemplo de Uso: Mantenimiento Predictivo de Camiones CAEX\n",
    "\n",
    "Este notebook demuestra cómo utilizar los scripts proporcionados para preprocesar los datos, entrenar un modelo de predicción de fallos, y generar un dashboard interactivo para la visualización de alertas.\n",
    "\n",
    "## Paso 1: Preprocesamiento de Datos\n",
    "\n",
    "Ejecuta el script de preprocesamiento:"
   ]
  },
  {
   "cell_type": "code",
   "execution_count": 6,
   "metadata": {},
   "outputs": [
    {
     "name": "stdout",
     "output_type": "stream",
     "text": [
      "/Library/Frameworks/Python.framework/Versions/3.11/Resources/Python.app/Contents/MacOS/Python: can't open file '/Users/cristian.antilao/Library/Mobile Documents/com~apple~CloudDocs/Magíster en Ciencia de Datos para la Innovación/Trimestre 2 - 2024/consultoria/project-repo/notebooks/scripts/preprocessing.py': [Errno 2] No such file or directory\n"
     ]
    }
   ],
   "source": [
    "!python3 scripts/preprocessing.py"
   ]
  },
  {
   "cell_type": "markdown",
   "metadata": {},
   "source": [
    "Este script carga los datos crudos desde data/raw/caex_data.csv, limpia los datos y los divide en conjuntos de entrenamiento y prueba, guardando los resultados en data/processed/.\n",
    "\n",
    "## Paso 2: Entrenamiento del Modelo\n",
    "\n",
    "Ejecuta el script de entrenamiento:"
   ]
  },
  {
   "cell_type": "code",
   "execution_count": null,
   "metadata": {},
   "outputs": [],
   "source": [
    "!python3 scripts/train_model.py"
   ]
  },
  {
   "cell_type": "markdown",
   "metadata": {},
   "source": [
    "Este script entrena un modelo Random Forest para predecir fallos en los camiones. Los datos de entrenamiento y prueba se utilizan para ajustar el modelo, y el modelo final se guarda en `models/trained_model.pkl`.\n",
    "\n",
    "## Paso 3: Generar el Dashboard\n",
    "\n",
    "Ejecuta el script para visualizar las alertas en el dashboard:"
   ]
  },
  {
   "cell_type": "code",
   "execution_count": null,
   "metadata": {},
   "outputs": [],
   "source": [
    "!python3 scripts/generate_dashboard.py"
   ]
  },
  {
   "cell_type": "markdown",
   "metadata": {},
   "source": [
    "El dashboard generará gráficos interactivos basados en los datos procesados y te permitirá monitorear las variables críticas de los camiones."
   ]
  }
 ],
 "metadata": {
  "kernelspec": {
   "display_name": "Python 3",
   "language": "python",
   "name": "python3"
  },
  "language_info": {
   "codemirror_mode": {
    "name": "ipython",
    "version": 3
   },
   "file_extension": ".py",
   "mimetype": "text/x-python",
   "name": "python",
   "nbconvert_exporter": "python",
   "pygments_lexer": "ipython3",
   "version": "3.11.5"
  }
 },
 "nbformat": 4,
 "nbformat_minor": 2
}
